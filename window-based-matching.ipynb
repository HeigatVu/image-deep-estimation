{
 "cells": [
  {
   "cell_type": "code",
   "execution_count": 1,
   "id": "1bb2691d",
   "metadata": {},
   "outputs": [],
   "source": [
    "import cv2\n",
    "import numpy as np"
   ]
  },
  {
   "cell_type": "markdown",
   "id": "1e74fd21",
   "metadata": {},
   "source": [
    "APPLYING WITH L1 and L2"
   ]
  },
  {
   "cell_type": "code",
   "execution_count": 2,
   "id": "42d32ae1",
   "metadata": {},
   "outputs": [],
   "source": [
    "def distance_l1(x, y):\n",
    "    return abs(x - y)\n",
    "\n",
    "def distance_l2(x, y):\n",
    "    return (x - y) ** 2"
   ]
  },
  {
   "cell_type": "code",
   "execution_count": 14,
   "id": "3c8d99a1",
   "metadata": {},
   "outputs": [],
   "source": [
    "def window_based_matching(left_image, right_image, disparity_range, save_result=True, kernel_size=5, method=\"l1\"):\n",
    "    # Read left, right image then convert to grayscale\n",
    "    left_image = cv2.imread(left_image, cv2.IMREAD_GRAYSCALE).astype(np.float32)\n",
    "    right_image = cv2.imread(right_image, cv2.IMREAD_GRAYSCALE).astype(np.float32)\n",
    "\n",
    "    # Get the shape of the images\n",
    "    height, width = left_image.shape[:2]\n",
    "\n",
    "    # Create a blank image to store the result\n",
    "    depth_map = np.zeros((height, width), dtype=np.uint8)\n",
    "    kernel_half = int((kernel_size - 1) / 2)\n",
    "    scale = 3\n",
    "    max_value = 255 * 9\n",
    "\n",
    "    for y in range(kernel_half, height - kernel_half + 1):\n",
    "        for x in range(kernel_half, width - kernel_half + 1):\n",
    "            # Find j where cost has minimum value\n",
    "            disparity = 0\n",
    "            cost_min = 65534\n",
    "            for j in range(disparity_range):\n",
    "                total = 0\n",
    "                value = 0\n",
    "                for v in range(-kernel_half, kernel_half):\n",
    "                    for u in range(-kernel_half, kernel_half):\n",
    "                        value = max_value\n",
    "                        if (x + u - j) >= 0:\n",
    "                            if method == \"l1\":\n",
    "                                value = distance_l1(int(left_image[y + v, x + u]), int(right_image[y + v, (x + u) - j]))\n",
    "                            elif method == \"l2\":\n",
    "                                value = distance_l2(int(left_image[y + v, x + u]), int(right_image[y + v, (x + u) - j]))\n",
    "                            total += value\n",
    "\n",
    "                if total < cost_min:\n",
    "                    cost_min = total\n",
    "                    disparity = j\n",
    "\n",
    "            # Let depth at (y, x) = j (disparity)\n",
    "            # Multiply by scale factor for visualization purpose\n",
    "            depth_map[y, x] = scale * disparity\n",
    "\n",
    "    if save_result:\n",
    "        print(\"Saving depth map...\")\n",
    "        if method == \"l1\":\n",
    "            cv2.imwrite(f\"window_based_l1.png\", depth_map)\n",
    "            cv2.imwrite(f\"window_based_l1_color.png\", cv2.applyColorMap(depth_map, cv2.COLORMAP_JET))\n",
    "        elif method == \"l2\":\n",
    "            cv2.imwrite(f\"window_based_l2.png\", depth_map)\n",
    "            cv2.imwrite(f\"window_based_l2_color.png\", cv2.applyColorMap(depth_map, cv2.COLORMAP_JET))\n",
    "    return depth_map"
   ]
  },
  {
   "cell_type": "code",
   "execution_count": 15,
   "id": "9903e335",
   "metadata": {},
   "outputs": [
    {
     "name": "stdout",
     "output_type": "stream",
     "text": [
      "Saving depth map...\n",
      "Saving depth map...\n"
     ]
    },
    {
     "data": {
      "text/plain": [
       "array([[  0,   0,   0, ...,   0,   0,   0],\n",
       "       [  0,   6,   9, ...,  45,  48,  48],\n",
       "       [  0,   6,   9, ...,  45,  48,  51],\n",
       "       ...,\n",
       "       [  0,   6,   9, ..., 102, 105,  72],\n",
       "       [  0,   6,   9, ...,  66,  69, 129],\n",
       "       [  0,   6,   9, ..., 129, 162, 129]], shape=(370, 427), dtype=uint8)"
      ]
     },
     "execution_count": 15,
     "metadata": {},
     "output_type": "execute_result"
    }
   ],
   "source": [
    "left_image = \"./Aloe_images/Aloe/Aloe_left_1.png\"\n",
    "right_image = \"./Aloe_images/Aloe/Aloe_right_1.png\"\n",
    "disparity_range = 64\n",
    "kernel_size = 3\n",
    "\n",
    "window_based_matching(left_image, right_image, disparity_range, save_result=True, kernel_size=3, method=\"l1\")\n",
    "window_based_matching(left_image, right_image, disparity_range, save_result=True, kernel_size=3, method=\"l2\")"
   ]
  },
  {
   "cell_type": "code",
   "execution_count": 17,
   "id": "c59efbdf",
   "metadata": {},
   "outputs": [
    {
     "name": "stdout",
     "output_type": "stream",
     "text": [
      "Saving depth map...\n",
      "Saving depth map...\n"
     ]
    },
    {
     "data": {
      "text/plain": [
       "array([[  0,   0,   0, ...,   0,   0,   0],\n",
       "       [  0,   6,   9, ...,  45,  48,  48],\n",
       "       [  0,   6,   9, ...,  45,  48,  51],\n",
       "       ...,\n",
       "       [  0,   6,   9, ..., 102, 105,  72],\n",
       "       [  0,   6,   9, ...,  66,  69, 129],\n",
       "       [  0,   6,   9, ..., 129, 162, 129]], shape=(370, 427), dtype=uint8)"
      ]
     },
     "execution_count": 17,
     "metadata": {},
     "output_type": "execute_result"
    }
   ],
   "source": [
    "left_image = \"./Aloe_images/Aloe/Aloe_left_1.png\"\n",
    "right_image = \"./Aloe_images/Aloe/Aloe_right_1.png\"\n",
    "disparity_range = 64\n",
    "kernel_size = 5\n",
    "\n",
    "window_based_matching(left_image, right_image, disparity_range, save_result=True, kernel_size=3, method=\"l1\")\n",
    "window_based_matching(left_image, right_image, disparity_range, save_result=True, kernel_size=3, method=\"l2\")"
   ]
  },
  {
   "cell_type": "markdown",
   "id": "e71b89ce",
   "metadata": {},
   "source": [
    "APPLYING COSINE SIMILARITY"
   ]
  },
  {
   "cell_type": "code",
   "execution_count": 29,
   "id": "909ddb3f",
   "metadata": {},
   "outputs": [],
   "source": [
    "def cosine_similarity(x, y):\n",
    "    numerator = np.dot(x, y)\n",
    "    denominator = np.linalg.norm(x) * np.linalg.norm(y)\n",
    "    return numerator / denominator"
   ]
  },
  {
   "cell_type": "code",
   "execution_count": 33,
   "id": "e6401d64",
   "metadata": {},
   "outputs": [],
   "source": [
    "def window_based_matching_cs(left_image, right_image, disparity_range, save_result=True, kernel_size=5):\n",
    "    # Read left, right image then convert to grayscale\n",
    "    left_image = cv2.imread(left_image, cv2.IMREAD_GRAYSCALE).astype(np.float32)\n",
    "    right_image = cv2.imread(right_image, cv2.IMREAD_GRAYSCALE).astype(np.float32)\n",
    "\n",
    "    # Get the shape of the images\n",
    "    height, width = left_image.shape[:2]\n",
    "\n",
    "    # Create a blank image to store the result\n",
    "    depth_map = np.zeros((height, width), dtype=np.uint8)\n",
    "    kernel_half = int((kernel_size - 1) / 2)\n",
    "    scale = 3\n",
    "    max_value = 255 * 9\n",
    "\n",
    "    for y in range(kernel_half, height - kernel_half):\n",
    "        for x in range(kernel_half, width - kernel_half):\n",
    "            # Find j where cost has minimum value\n",
    "            disparity = 0\n",
    "            cost_optimal = -1\n",
    "            for j in range(disparity_range):\n",
    "                d = x - j\n",
    "                cost = -1\n",
    "                if (d - kernel_half) > 0:\n",
    "                    wp = left_image[(y - kernel_half):(y + kernel_half + 1), (x - kernel_half):(x + kernel_half + 1)]\n",
    "                    wqd = right_image[(y - kernel_half):(y + kernel_half + 1), (d - kernel_half):(d + kernel_half + 1)]\n",
    "                    wp_flatten = wp.flatten()\n",
    "                    wqd_flatten = wqd.flatten()\n",
    "                    cost = cosine_similarity(wp_flatten, wqd_flatten)\n",
    "\n",
    "                if cost > cost_optimal:\n",
    "                    cost_optimal = cost\n",
    "                    disparity = j\n",
    "\n",
    "            depth_map[y, x] = scale * disparity\n",
    "    \n",
    "    if save_result:\n",
    "        print(\"Saving depth map...\")\n",
    "        cv2.imwrite(f\"window_based_cs.png\", depth_map)\n",
    "        cv2.imwrite(f\"window_based_cs_color.png\", cv2.applyColorMap(depth_map, cv2.COLORMAP_JET))\n",
    "    return depth_map"
   ]
  },
  {
   "cell_type": "code",
   "execution_count": 34,
   "id": "592c4ff2",
   "metadata": {},
   "outputs": [
    {
     "name": "stdout",
     "output_type": "stream",
     "text": [
      "Saving depth map...\n"
     ]
    },
    {
     "data": {
      "text/plain": [
       "array([[  0,   0,   0, ...,   0,   0,   0],\n",
       "       [  0,   0,   0, ...,  45,  45,   0],\n",
       "       [  0,   0,   0, ...,  45,  48,   0],\n",
       "       ...,\n",
       "       [  0,   0,   0, ..., 126, 126,   0],\n",
       "       [  0,   0,   0, ..., 129, 126,   0],\n",
       "       [  0,   0,   0, ...,   0,   0,   0]], shape=(370, 427), dtype=uint8)"
      ]
     },
     "execution_count": 34,
     "metadata": {},
     "output_type": "execute_result"
    }
   ],
   "source": [
    "left_image = \"./Aloe_images/Aloe/Aloe_left_1.png\"\n",
    "right_image = \"./Aloe_images/Aloe/Aloe_right_1.png\"\n",
    "disparity_range = 64\n",
    "kernel_size = 3\n",
    "\n",
    "window_based_matching_cs(left_image, right_image, disparity_range, save_result=True, kernel_size=3)"
   ]
  }
 ],
 "metadata": {
  "kernelspec": {
   "display_name": "aio-hw2024",
   "language": "python",
   "name": "python3"
  },
  "language_info": {
   "codemirror_mode": {
    "name": "ipython",
    "version": 3
   },
   "file_extension": ".py",
   "mimetype": "text/x-python",
   "name": "python",
   "nbconvert_exporter": "python",
   "pygments_lexer": "ipython3",
   "version": "3.10.17"
  }
 },
 "nbformat": 4,
 "nbformat_minor": 5
}
