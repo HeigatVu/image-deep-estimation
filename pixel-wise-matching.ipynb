{
 "cells": [
  {
   "cell_type": "code",
   "execution_count": 1,
   "id": "dfc67649",
   "metadata": {},
   "outputs": [],
   "source": [
    "import cv2\n",
    "import numpy as np"
   ]
  },
  {
   "cell_type": "code",
   "execution_count": 7,
   "id": "0257a0f9",
   "metadata": {},
   "outputs": [],
   "source": [
    "def distance_l1(x, y):\n",
    "    return abs(x - y)\n",
    "\n",
    "def distance_l2(x, y):\n",
    "    return (x - y) ** 2"
   ]
  },
  {
   "cell_type": "code",
   "execution_count": 8,
   "id": "aecdbb43",
   "metadata": {},
   "outputs": [],
   "source": [
    "def pixel_wise_matching(left_image, right_image, disparity_range, save_result=True, method=\"l1\"):\n",
    "    # Read left, right image then convert to grayscale\n",
    "    left_image = cv2.imread(left_image, cv2.IMREAD_GRAYSCALE).astype(np.float32)\n",
    "    right_image = cv2.imread(right_image, cv2.IMREAD_GRAYSCALE).astype(np.float32)\n",
    "\n",
    "    # Get the shape of the images\n",
    "    height, width = left_image.shape[:2]\n",
    "    \n",
    "    # Create a blank image to store the result\n",
    "    depth_map = np.zeros((height, width), dtype=np.uint8)\n",
    "    scale = 16\n",
    "    max_value = 255\n",
    "\n",
    "    for y in range(height):\n",
    "        for x in range(width):\n",
    "            # Find j where cost has minimum value\n",
    "            disparity = 0\n",
    "            cost_min = max_value\n",
    "            for j in range(disparity_range):\n",
    "                if method == \"l1\":\n",
    "                    cost = max_value if (x - j) < 0 else distance_l1(int(left_image[y, x]), int(right_image[y, x - j]))\n",
    "                elif method == \"l2\":\n",
    "                    cost = max_value if (x - j) < 0 else distance_l2(int(left_image[y, x]), int(right_image[y, x - j]))\n",
    "\n",
    "                if cost < cost_min:\n",
    "                    cost_min = cost\n",
    "                    disparity = j\n",
    "            depth_map[y, x] = scale * disparity\n",
    "\n",
    "    if save_result:\n",
    "        print(\"Saving depth map...\")\n",
    "        if method == \"l1\":\n",
    "            cv2.imwrite(f\"pixel_wise_l1.png\", depth_map)\n",
    "            cv2.imwrite(f\"pixel_wise_l1_color.png\", cv2.applyColorMap(depth_map, cv2.COLORMAP_JET))\n",
    "        elif method == \"l2\":\n",
    "            cv2.imwrite(f\"pixel_wise_l2.png\", depth_map)\n",
    "            cv2.imwrite(f\"pixel_wise_l2_color.png\", cv2.applyColorMap(depth_map, cv2.COLORMAP_JET))\n",
    "    return depth_map"
   ]
  },
  {
   "cell_type": "code",
   "execution_count": 9,
   "id": "8573f455",
   "metadata": {},
   "outputs": [
    {
     "name": "stdout",
     "output_type": "stream",
     "text": [
      "Saving depth map...\n",
      "Saving depth map...\n"
     ]
    },
    {
     "data": {
      "text/plain": [
       "array([[ 0,  0,  0, ...,  0,  0,  0],\n",
       "       [ 0,  0,  0, ...,  0,  0,  0],\n",
       "       [ 0,  0,  0, ...,  0,  0,  0],\n",
       "       ...,\n",
       "       [ 0,  0,  0, ...,  0, 16,  0],\n",
       "       [ 0,  0,  0, ..., 16, 32,  0],\n",
       "       [ 0,  0,  0, ..., 64, 64,  0]], shape=(288, 384), dtype=uint8)"
      ]
     },
     "execution_count": 9,
     "metadata": {},
     "output_type": "execute_result"
    }
   ],
   "source": [
    "left_image = \"./tsukuba/left.png\"\n",
    "right_image = \"./tsukuba/right.png\"\n",
    "disparity_range = 16\n",
    "\n",
    "pixel_wise_matching(left_image, right_image, disparity_range, save_result=True, method=\"l1\")\n",
    "pixel_wise_matching(left_image, right_image, disparity_range, save_result=True, method=\"l2\")"
   ]
  },
  {
   "cell_type": "code",
   "execution_count": null,
   "id": "8dc0a23a",
   "metadata": {},
   "outputs": [],
   "source": []
  }
 ],
 "metadata": {
  "kernelspec": {
   "display_name": "aio-hw2024",
   "language": "python",
   "name": "python3"
  },
  "language_info": {
   "codemirror_mode": {
    "name": "ipython",
    "version": 3
   },
   "file_extension": ".py",
   "mimetype": "text/x-python",
   "name": "python",
   "nbconvert_exporter": "python",
   "pygments_lexer": "ipython3",
   "version": "3.10.17"
  }
 },
 "nbformat": 4,
 "nbformat_minor": 5
}
